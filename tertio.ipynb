{
 "cells": [
  {
   "cell_type": "code",
   "id": "initial_id",
   "metadata": {
    "collapsed": true,
    "ExecuteTime": {
     "end_time": "2025-02-16T13:52:41.750153Z",
     "start_time": "2025-02-16T13:52:37.937898Z"
    }
   },
   "source": [
    "import findspark\n",
    "findspark.init()\n",
    "from pyspark import SparkConf, SparkContext\n",
    "from pyspark.sql import SparkSession\n",
    "\n",
    "sc = SparkContext()\n",
    "spark = SparkSession.builder.appName(\"Treci deo\").getOrCreate()"
   ],
   "outputs": [],
   "execution_count": 1
  },
  {
   "metadata": {
    "ExecuteTime": {
     "end_time": "2025-02-16T13:57:18.918704Z",
     "start_time": "2025-02-16T13:57:16.141260Z"
    }
   },
   "cell_type": "code",
   "source": [
    "rng = range(1,80)\n",
    "rdd = sc.parallelize(rng,4)\n",
    "print(type(rdd))\n",
    "rdd.collect()"
   ],
   "id": "a16e546e3eafb0ab",
   "outputs": [
    {
     "name": "stdout",
     "output_type": "stream",
     "text": [
      "<class 'pyspark.rdd.PipelinedRDD'>\n"
     ]
    },
    {
     "data": {
      "text/plain": [
       "[1,\n",
       " 2,\n",
       " 3,\n",
       " 4,\n",
       " 5,\n",
       " 6,\n",
       " 7,\n",
       " 8,\n",
       " 9,\n",
       " 10,\n",
       " 11,\n",
       " 12,\n",
       " 13,\n",
       " 14,\n",
       " 15,\n",
       " 16,\n",
       " 17,\n",
       " 18,\n",
       " 19,\n",
       " 20,\n",
       " 21,\n",
       " 22,\n",
       " 23,\n",
       " 24,\n",
       " 25,\n",
       " 26,\n",
       " 27,\n",
       " 28,\n",
       " 29,\n",
       " 30,\n",
       " 31,\n",
       " 32,\n",
       " 33,\n",
       " 34,\n",
       " 35,\n",
       " 36,\n",
       " 37,\n",
       " 38,\n",
       " 39,\n",
       " 40,\n",
       " 41,\n",
       " 42,\n",
       " 43,\n",
       " 44,\n",
       " 45,\n",
       " 46,\n",
       " 47,\n",
       " 48,\n",
       " 49,\n",
       " 50,\n",
       " 51,\n",
       " 52,\n",
       " 53,\n",
       " 54,\n",
       " 55,\n",
       " 56,\n",
       " 57,\n",
       " 58,\n",
       " 59,\n",
       " 60,\n",
       " 61,\n",
       " 62,\n",
       " 63,\n",
       " 64,\n",
       " 65,\n",
       " 66,\n",
       " 67,\n",
       " 68,\n",
       " 69,\n",
       " 70,\n",
       " 71,\n",
       " 72,\n",
       " 73,\n",
       " 74,\n",
       " 75,\n",
       " 76,\n",
       " 77,\n",
       " 78,\n",
       " 79]"
      ]
     },
     "execution_count": 6,
     "metadata": {},
     "output_type": "execute_result"
    }
   ],
   "execution_count": 6
  },
  {
   "metadata": {
    "ExecuteTime": {
     "end_time": "2025-02-16T14:12:18.504385Z",
     "start_time": "2025-02-16T14:12:15.742419Z"
    }
   },
   "cell_type": "code",
   "source": [
    "r1 = rdd.map(lambda br: br%4)\n",
    "r2 = rdd.filter(lambda br: br%4==0)\n",
    "r2.collect()"
   ],
   "id": "4f0f90118932e8e8",
   "outputs": [
    {
     "data": {
      "text/plain": [
       "[4, 8, 12, 16, 20, 24, 28, 32, 36, 40, 44, 48, 52, 56, 60, 64, 68, 72, 76]"
      ]
     },
     "execution_count": 8,
     "metadata": {},
     "output_type": "execute_result"
    }
   ],
   "execution_count": 8
  },
  {
   "metadata": {
    "ExecuteTime": {
     "end_time": "2025-02-16T14:14:13.014316Z",
     "start_time": "2025-02-16T14:14:09.456307Z"
    }
   },
   "cell_type": "code",
   "source": [
    "rdd.count()\n",
    "rdd.take(9)"
   ],
   "id": "5344830540723cb7",
   "outputs": [
    {
     "data": {
      "text/plain": [
       "[1, 2, 3, 4, 5, 6, 7, 8, 9]"
      ]
     },
     "execution_count": 11,
     "metadata": {},
     "output_type": "execute_result"
    }
   ],
   "execution_count": 11
  },
  {
   "metadata": {
    "ExecuteTime": {
     "end_time": "2025-02-16T14:14:55.434407Z",
     "start_time": "2025-02-16T14:14:54.736682Z"
    }
   },
   "cell_type": "code",
   "source": "spark",
   "id": "c7277549f4c95b47",
   "outputs": [
    {
     "data": {
      "text/plain": [
       "<pyspark.sql.session.SparkSession at 0x17d38b70210>"
      ],
      "text/html": [
       "\n",
       "            <div>\n",
       "                <p><b>SparkSession - in-memory</b></p>\n",
       "                \n",
       "        <div>\n",
       "            <p><b>SparkContext</b></p>\n",
       "\n",
       "            <p><a href=\"http://DESKTOP-KT0FC1I:4041\">Spark UI</a></p>\n",
       "\n",
       "            <dl>\n",
       "              <dt>Version</dt>\n",
       "                <dd><code>v3.5.4</code></dd>\n",
       "              <dt>Master</dt>\n",
       "                <dd><code>local[*]</code></dd>\n",
       "              <dt>AppName</dt>\n",
       "                <dd><code>pyspark-shell</code></dd>\n",
       "            </dl>\n",
       "        </div>\n",
       "        \n",
       "            </div>\n",
       "        "
      ]
     },
     "execution_count": 12,
     "metadata": {},
     "output_type": "execute_result"
    }
   ],
   "execution_count": 12
  },
  {
   "metadata": {
    "ExecuteTime": {
     "end_time": "2025-02-16T14:19:29.849094Z",
     "start_time": "2025-02-16T14:19:24.645952Z"
    }
   },
   "cell_type": "code",
   "source": "!curl https://raw.githubusercontent.com/Niecmano/sempandas/main/data/brit_sredjen.csv >> brit.csv",
   "id": "c8993ed44db4849",
   "outputs": [
    {
     "name": "stderr",
     "output_type": "stream",
     "text": [
      "  % Total    % Received % Xferd  Average Speed   Time    Time     Time  Current\n",
      "                                 Dload  Upload   Total   Spent    Left  Speed\n",
      "\n",
      "  0     0    0     0    0     0      0      0 --:--:-- --:--:-- --:--:--     0\n",
      "  0     0    0     0    0     0      0      0 --:--:-- --:--:-- --:--:--     0\n",
      "  0     0    0     0    0     0      0      0 --:--:--  0:00:01 --:--:--     0\n",
      "  0  349k    0     0    0     0      0      0 --:--:--  0:00:02 --:--:--     0\n",
      " 54  349k   54  190k    0     0  52817      0  0:00:06  0:00:03  0:00:03 52841\n",
      " 81  349k   81  286k    0     0  62424      0  0:00:05  0:00:04  0:00:01 62447\n",
      "100  349k  100  349k    0     0  69678      0  0:00:05  0:00:05 --:--:-- 83594\n"
     ]
    }
   ],
   "execution_count": 13
  },
  {
   "metadata": {
    "ExecuteTime": {
     "end_time": "2025-02-16T14:21:55.979208Z",
     "start_time": "2025-02-16T14:21:55.651435Z"
    }
   },
   "cell_type": "code",
   "source": [
    "bdf = spark.read.csv('brit.csv',header=True)\n",
    "bdf.show()"
   ],
   "id": "7c9834887474d24a",
   "outputs": [
    {
     "name": "stdout",
     "output_type": "stream",
     "text": [
      "+--------------------+-------------+------------+-------------------+------------+-------------+--------------------+----+--------+--------------------+------------+------------+------+----------------+--------+--------+-----------+-------+-------+-----------+----------+------------------+-----------+-----------+----------------+-----------+--------------------+\n",
      "|               Title|    AlbumName|Record Label|          Performer|Track.number|Song.duration|            Composer|Year|   Genre|              Styles|acousticness|danceability|energy|instrumentalness|liveness|loudness|speechiness|  tempo|valence|duration_ms|popularity|shake.the.audience|   romantic|    obscene|family.spiritual|    sadness|      First composer|\n",
      "+--------------------+-------------+------------+-------------------+------------+-------------+--------------------+----+--------+--------------------+------------+------------+------+----------------+--------+--------+-----------+-------+-------+-----------+----------+------------------+-----------+-----------+----------------+-----------+--------------------+\n",
      "|     Glad All Over  |Glad All Over|         BMG|The Dave Clark Five|           1|         2:43|Dave Clark / Mike...|1964|Pop/Rock|British Invasion,...|       0.152|       0.462| 0.803|             0.0|  0.0788|  -8.357|     0.0585|137.789|  0.896|   163327.0|      46.0|       0.001422475|0.001422475|0.001422475|     0.001422475|0.036145049|          Dave Clark|\n",
      "|   All of the Time  |Glad All Over|         BMG|The Dave Clark Five|           2|         2:15|Dave Clark / Mike...|1964|Pop/Rock|British Invasion,...|       0.057|       0.726| 0.667|             0.0|   0.332|  -9.178|     0.0666|131.663|  0.904|   135427.0|      11.0|       0.000730994|0.000730994| 0.04775665|     0.000730994|0.000730994|          Dave Clark|\n",
      "|   Crying Over You  |Glad All Over|         BMG|The Dave Clark Five|           3|         2:09|Dave Clark / Lenn...|1964|Pop/Rock|British Invasion,...|       0.771|       0.501|  0.36|             0.0|  0.0741| -11.314|     0.0271|102.481|  0.412|   129320.0|       4.0|       0.001814882|0.001814882|0.001814882|     0.001814882|0.317712887|          Dave Clark|\n",
      "|              Stay  |Glad All Over|         BMG|The Dave Clark Five|           4|         2:09|Sobian Fahey / Ma...|1964|Pop/Rock|British Invasion,...|       0.134|       0.589| 0.926|             0.0|   0.448|  -9.197|     0.0562|135.421|  0.932|   129661.0|      13.0|       0.000604961|0.059734127|0.366353253|     0.000604961|0.036609065|        Sobian Fahey|\n",
      "|          Chaquita  |Glad All Over|         BMG|The Dave Clark Five|           5|         2:13|Dave Clark / Mike...|1964|Pop/Rock|British Invasion,...|       0.101|       0.522| 0.891|            0.53|   0.434| -10.766|      0.146| 85.429|  0.449|   133453.0|       9.0|       0.015941219|0.000773994|0.360738057|     0.000773994|0.000773994|          Dave Clark|\n",
      "|     Do You Love Me |Glad All Over|         BMG|The Dave Clark Five|           6|         2:43|    Berry Gordy, Jr.|1964|Pop/Rock|British Invasion,...|     0.00139|       0.432| 0.913|             0.0|  0.0564|  -7.793|     0.0531|140.912|  0.917|   163653.0|      32.0|       0.000773994|0.014132066|0.572230669|     0.021915879|0.000773994|    Berry Gordy, Jr.|\n",
      "|   Bits and Pieces  |Glad All Over|         BMG|The Dave Clark Five|           7|         1:58|Dave Clark / Ron ...|1964|Pop/Rock|British Invasion,...|      0.0225|       0.485| 0.835|        0.000114|  0.0766|  -8.871|      0.101|143.853|  0.974|   118907.0|      39.0|       0.000506073|0.023229832|0.490242609|     0.000506073|0.000506073|          Dave Clark|\n",
      "|        I Know You  |Glad All Over|         BMG|The Dave Clark Five|           8|         2:00|Dave Clark / Lenn...|1964|Pop/Rock|British Invasion,...|     0.00825|       0.581| 0.872|        2.53e-05|   0.492|  -9.347|     0.0843|135.594|  0.678|   120187.0|      14.0|        0.00044603|0.030068351|0.389491853|      0.00044603|0.012249103|          Dave Clark|\n",
      "|              Time  |Glad All Over|         BMG|The Dave Clark Five|          10|         2:19|Lars Anderson / D...|1964|Pop/Rock|British Invasion,...|       0.074|       0.788| 0.431|         1.8e-05|  0.0695|  -9.968|     0.0581|126.172|   0.56|   139093.0|       7.0|       0.042140557| 0.00074129|0.459380531|      0.00074129|0.039326754|       Lars Anderson|\n",
      "|Who Do You Think ...|Glad All Over|         BMG|The Dave Clark Five|          11|         2:10|Dave Clark / Lenn...|1964|Pop/Rock|British Invasion,...|    0.000246|       0.518| 0.721|             0.0|   0.271|   -9.31|        0.1|130.457|  0.808|   130907.0|       7.0|       0.000711238|0.000711238|0.321958168|     0.045396098|0.000711238|          Dave Clark|\n",
      "|           Because  |American Tour|         BMG|The Dave Clark Five|           1|         2:22|Dave Clark / Dee ...|1964|Pop/Rock|British Invasion,...|       0.441|       0.712| 0.508|        1.13e-05|   0.286|  -9.562|     0.0343|123.002|  0.796|   142425.0|      50.0|       0.000598086|0.000598086|0.389648661|     0.087770435|0.000598086|          Dave Clark|\n",
      "|           Move On  |American Tour|         BMG|The Dave Clark Five|           2|         2:14|Laura Christofori...|1964|Pop/Rock|British Invasion,...|      0.0145|       0.537| 0.561|           0.219|   0.103|  -9.299|     0.0853|134.465|  0.788|   134000.0|       9.0|       0.000572082|0.019524766|0.606966779|     0.026356912|0.067653734|Laura Christofori...|\n",
      "|Whenever You're A...|American Tour|         BMG|The Dave Clark Five|           3|         2:54|Dave Clark / Mike...|1964|Pop/Rock|British Invasion,...|       0.631|       0.565| 0.493|        1.27e-05|   0.151| -11.992|     0.0348| 94.357|  0.517|   174213.0|      26.0|       0.000711238|0.544479545|0.000711238|     0.000711238|0.065978858|          Dave Clark|\n",
      "|  I Want You Still  |American Tour|         BMG|The Dave Clark Five|           4|         1:37|Dave Clark / Deni...|1964|Pop/Rock|British Invasion,...|      0.0229|       0.575| 0.846|             0.0|   0.149|  -9.279|     0.0541|138.537|  0.928|    97160.0|      15.0|        0.00228833| 0.00228833| 0.00228833|      0.00228833|0.177457484|          Dave Clark|\n",
      "|          Long Ago  |American Tour|         BMG|The Dave Clark Five|           5|         2:12|Dave Clark / Lenn...|1964|Pop/Rock|British Invasion,...|       0.771|       0.309| 0.299|             0.0|   0.135| -11.718|     0.0631|182.697|  0.394|   132600.0|      16.0|       0.017967725|0.000892061|0.000892061|     0.000892061|0.000892061|          Dave Clark|\n",
      "|       Blue Monday  |American Tour|         BMG|The Dave Clark Five|           6|         2:56|Dave Clark / Mike...|1964|Pop/Rock|British Invasion,...|       0.424|        0.31|  0.52|             0.0|   0.242| -12.294|     0.0924|160.349|  0.642|   136827.0|       2.0|       0.000797448|0.000797448|0.000797448|     0.074552289| 0.09245588|          Dave Clark|\n",
      "|         Sometimes  |American Tour|         BMG|The Dave Clark Five|           7|         2:51|Dave Clark / Ron ...|1964|Pop/Rock|British Invasion,...|      0.0996|        0.66| 0.652|        0.000427|   0.232|  -8.887|     0.0386|124.087|  0.558|   171893.0|      10.0|       0.000956938|0.000956938|0.000956938|     0.213772185|0.112311559|          Dave Clark|\n",
      "|Any Time You Want...|American Tour|         BMG|The Dave Clark Five|           8|         2:12|Dave Clark / Lenn...|1964|Pop/Rock|British Invasion,...|       0.462|       0.461| 0.497|             0.0|   0.427|  -8.803|     0.0349| 99.404|  0.643|   132920.0|      12.0|       0.001461988|0.001461988|0.001461988|     0.001461988|0.001461988|          Dave Clark|\n",
      "|  I Cried Over You  |American Tour|         BMG|The Dave Clark Five|           9|         2:29|Dave Clark / Lenn...|1964|Pop/Rock|British Invasion,...|       0.162|       0.751|  0.56|             0.0|   0.127|  -8.365|     0.0443|104.665|  0.593|   149187.0|      10.0|       0.000862813|0.000862813|0.000862813|     0.099047214|0.000862813|          Dave Clark|\n",
      "|           Ol' Sol  |American Tour|         BMG|The Dave Clark Five|          10|         2:00|Dave Clark / Deni...|1964|Pop/Rock|British Invasion,...|      0.0365|       0.505| 0.721|           0.872|   0.118|   -8.87|     0.0523|143.059|  0.708|   120547.0|       6.0|       0.001315789|0.067288223| 0.00131579|     0.001315789|0.366920748|          Dave Clark|\n",
      "+--------------------+-------------+------------+-------------------+------------+-------------+--------------------+----+--------+--------------------+------------+------------+------+----------------+--------+--------+-----------+-------+-------+-----------+----------+------------------+-----------+-----------+----------------+-----------+--------------------+\n",
      "only showing top 20 rows\n",
      "\n"
     ]
    }
   ],
   "execution_count": 16
  },
  {
   "metadata": {
    "ExecuteTime": {
     "end_time": "2025-02-16T14:22:34.731893Z",
     "start_time": "2025-02-16T14:22:34.007066Z"
    }
   },
   "cell_type": "code",
   "source": "spark.stop()",
   "id": "18754b9812e05b3f",
   "outputs": [],
   "execution_count": 17
  }
 ],
 "metadata": {
  "kernelspec": {
   "display_name": "Python 3",
   "language": "python",
   "name": "python3"
  },
  "language_info": {
   "codemirror_mode": {
    "name": "ipython",
    "version": 2
   },
   "file_extension": ".py",
   "mimetype": "text/x-python",
   "name": "python",
   "nbconvert_exporter": "python",
   "pygments_lexer": "ipython2",
   "version": "2.7.6"
  }
 },
 "nbformat": 4,
 "nbformat_minor": 5
}
